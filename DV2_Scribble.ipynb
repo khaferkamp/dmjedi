{
 "cells": [
  {
   "cell_type": "markdown",
   "metadata": {},
   "source": [
    "# Data Vault 2 Scribble for generating DV2 Models\n",
    "\n",
    "This documents shows the basic usage of the blah."
   ]
  },
  {
   "cell_type": "code",
   "execution_count": 1,
   "metadata": {
    "pycharm": {
     "is_executing": false,
     "name": "#%%\n"
    }
   },
   "outputs": [
    {
     "ename": "TypeError",
     "evalue": "__init__() got an unexpected keyword argument 'name'",
     "output_type": "error",
     "traceback": [
      "\u001b[0;31m---------------------------------------------------------------------------\u001b[0m",
      "\u001b[0;31mTypeError\u001b[0m                                 Traceback (most recent call last)",
      "\u001b[0;32m<ipython-input-1-e2946dba8c1b>\u001b[0m in \u001b[0;36m<module>\u001b[0;34m\u001b[0m\n\u001b[1;32m      4\u001b[0m \u001b[0;34m\u001b[0m\u001b[0m\n\u001b[1;32m      5\u001b[0m \u001b[0;34m\u001b[0m\u001b[0m\n\u001b[0;32m----> 6\u001b[0;31m \u001b[0mh\u001b[0m \u001b[0;34m=\u001b[0m \u001b[0mHubEntity\u001b[0m\u001b[0;34m(\u001b[0m\u001b[0mname\u001b[0m\u001b[0;34m=\u001b[0m\u001b[0;34m\"customer_h\"\u001b[0m\u001b[0;34m,\u001b[0m \u001b[0mdisplay_name\u001b[0m\u001b[0;34m=\u001b[0m\u001b[0;34m\"customer\"\u001b[0m\u001b[0;34m,\u001b[0m \u001b[0mschema\u001b[0m\u001b[0;34m=\u001b[0m\u001b[0;34m\"rdv\"\u001b[0m\u001b[0;34m)\u001b[0m\u001b[0;34m\u001b[0m\u001b[0;34m\u001b[0m\u001b[0m\n\u001b[0m",
      "\u001b[0;31mTypeError\u001b[0m: __init__() got an unexpected keyword argument 'name'"
     ]
    }
   ],
   "source": [
    "# first import the needed dependencies to create a model\n",
    "from dmjedi.model.database import Columns\n",
    "from dmjedi.model.datavault import *\n",
    "\n",
    "\n",
    "h = HubEntity(name=\"customer_h\", display_name=\"customer\", schema=\"rdv\")"
   ]
  },
  {
   "cell_type": "code",
   "execution_count": 2,
   "metadata": {
    "pycharm": {
     "is_executing": false,
     "name": "#%%\n"
    }
   },
   "outputs": [
    {
     "name": "stdout",
     "output_type": "stream",
     "text": [
      "Hub entity 'customer_h' (with name 'customer') has the following definition:\n",
      "Table [name 'customer_h', display name 'customer', schema: 'rdv', database 'None', comment 'None']\n"
     ]
    }
   ],
   "source": [
    "# print info about the entity\n",
    "print(h.describe())"
   ]
  },
  {
   "cell_type": "code",
   "execution_count": 3,
   "metadata": {},
   "outputs": [
    {
     "data": {
      "text/plain": [
       "False"
      ]
     },
     "execution_count": 3,
     "metadata": {},
     "output_type": "execute_result"
    }
   ],
   "source": [
    "# excpected \"False\" because there are no business keys defined yet\n",
    "h.is_valid()"
   ]
  },
  {
   "cell_type": "code",
   "execution_count": 4,
   "metadata": {},
   "outputs": [
    {
     "data": {
      "text/plain": [
       "True"
      ]
     },
     "execution_count": 4,
     "metadata": {},
     "output_type": "execute_result"
    }
   ],
   "source": [
    "h.add_field(Columns.IntColumn(name=\"customer_no\", display_name=\"Customer No.\", primary_key=True))\n",
    "h.add_field(Columns.IntColumn(name=\"tenant\", display_name=\"Tenant ID\", primary_key=True))\n",
    "h.is_valid()"
   ]
  },
  {
   "cell_type": "code",
   "execution_count": 5,
   "metadata": {},
   "outputs": [
    {
     "name": "stdout",
     "output_type": "stream",
     "text": [
      "Hub entity 'customer_h' (with name 'customer') has the following definition:\n",
      "Table [name 'customer_h', display name 'customer', schema: 'rdv', database 'None', comment 'None'], \n",
      "Column [name 'customer_no', display name 'Customer No.', data type: 'integer', default value '', primary key 'True', unique 'False', indexed 'False', nullable 'True'], \n",
      "Column [name 'tenant', display name 'Tenant ID', data type: 'integer', default value '', primary key 'True', unique 'False', indexed 'False', nullable 'True']\n"
     ]
    }
   ],
   "source": [
    "print(h.describe())"
   ]
  },
  {
   "cell_type": "code",
   "execution_count": 6,
   "metadata": {},
   "outputs": [
    {
     "name": "stdout",
     "output_type": "stream",
     "text": [
      "A satellite cannot be attached to this entity!\n",
      "Referenced object <__main__.InvalidEntity object at 0x11173d358>.\n"
     ]
    }
   ],
   "source": [
    "class InvalidEntity:\n",
    "    pass\n",
    "\n",
    "ent = InvalidEntity()\n",
    "\n",
    "try:\n",
    "    s = SatelliteEntity(display_name=\"customer data\", name=\"customer_s\", entity=ent)\n",
    "except Exceptions.InvalidAttachedEntity as err1:\n",
    "    print(err1)"
   ]
  },
  {
   "cell_type": "code",
   "execution_count": 7,
   "metadata": {},
   "outputs": [
    {
     "name": "stdout",
     "output_type": "stream",
     "text": [
      "Satellite entity 'customer data' (with name 'customer_s') has the following definition:\n",
      "Table [name 'customer data', display name 'customer_s', schema: 'None', database 'None', comment 'Table for customer data to hub 'customer''], \n",
      "Column [name 'name', display name 'name', data type: 'text', default value '', primary key 'False', unique 'False', indexed 'False', nullable 'True'], \n",
      "Column [name 'firsname', display name 'first name', data type: 'text', default value '', primary key 'False', unique 'False', indexed 'False', nullable 'True'], \n",
      "Column [name 'email', display name 'email', data type: 'text', default value '', primary key 'False', unique 'False', indexed 'False', nullable 'True']\n",
      "Attached entity Hub entity 'customer_h' (with name 'customer') has the following definition:\n",
      "Table [name 'customer_h', display name 'customer', schema: 'rdv', database 'None', comment 'None'], \n",
      "Column [name 'customer_no', display name 'Customer No.', data type: 'integer', default value '', primary key 'True', unique 'False', indexed 'False', nullable 'True'], \n",
      "Column [name 'tenant', display name 'Tenant ID', data type: 'integer', default value '', primary key 'True', unique 'False', indexed 'False', nullable 'True']\n"
     ]
    }
   ],
   "source": [
    "s = SatelliteEntity(entity=h, name=\"customer data\", display_name=\"customer_s\", comment=\"Table for customer data to hub 'customer'\")\n",
    "s.add_field(Columns.TextColumn(name=\"name\", display_name=\"name\"))\n",
    "s.add_field(Columns.TextColumn(name=\"firsname\", display_name=\"first name\"))\n",
    "s.add_field(Columns.TextColumn(name=\"email\", display_name=\"email\"))\n",
    "\n",
    "print(s.describe())"
   ]
  },
  {
   "cell_type": "code",
   "execution_count": 8,
   "metadata": {},
   "outputs": [
    {
     "data": {
      "text/plain": [
       "False"
      ]
     },
     "execution_count": 8,
     "metadata": {},
     "output_type": "execute_result"
    }
   ],
   "source": [
    "h2 = HubEntity(name=\"partner_h\", display_name=\"Partner\")\n",
    "h2.add_field(Columns.IntColumn(name=\"partner_id\", display_name=\"Partner ID\", primary_key=True))\n",
    "\n",
    "l = LinkEntity(name=\"customer_partner_l\", display_name=\"Link to customer and partner\")\n",
    "l.is_valid()"
   ]
  },
  {
   "cell_type": "code",
   "execution_count": 9,
   "metadata": {},
   "outputs": [
    {
     "name": "stdout",
     "output_type": "stream",
     "text": [
      "Only hubs can be linked together! Linked entity 'customer data'.\n"
     ]
    }
   ],
   "source": [
    "try:\n",
    "    l.add_hub(s)\n",
    "except Exceptions.InvalidLinkedEntity as err2:\n",
    "    print(err2)"
   ]
  },
  {
   "cell_type": "code",
   "execution_count": 10,
   "metadata": {},
   "outputs": [
    {
     "name": "stdout",
     "output_type": "stream",
     "text": [
      "Link entity 'customer_partner_l' (with name 'Link to customer and partner') has the following definition:\n",
      "Table [name 'customer_partner_l', display name 'Link to customer and partner', schema: 'None', database 'None', comment 'None']\n",
      "Linked entity Hub entity 'customer_h' (with name 'customer') has the following definition:\n",
      "Table [name 'customer_h', display name 'customer', schema: 'rdv', database 'None', comment 'None'], \n",
      "Column [name 'customer_no', display name 'Customer No.', data type: 'integer', default value '', primary key 'True', unique 'False', indexed 'False', nullable 'True'], \n",
      "Column [name 'tenant', display name 'Tenant ID', data type: 'integer', default value '', primary key 'True', unique 'False', indexed 'False', nullable 'True']\n",
      "Linked entity Hub entity 'partner_h' (with name 'Partner') has the following definition:\n",
      "Table [name 'partner_h', display name 'Partner', schema: 'None', database 'None', comment 'None'], \n",
      "Column [name 'partner_id', display name 'Partner ID', data type: 'integer', default value '', primary key 'True', unique 'False', indexed 'False', nullable 'True']\n"
     ]
    }
   ],
   "source": [
    "l.add_hub(h)\n",
    "l.add_hub(h2)\n",
    "print(l.describe())"
   ]
  },
  {
   "cell_type": "code",
   "execution_count": 11,
   "metadata": {},
   "outputs": [
    {
     "name": "stdout",
     "output_type": "stream",
     "text": [
      "Link entity 'customer_partner_l' (with name 'Link to customer and partner') has the following definition:\n",
      "Table [name 'customer_partner_l', display name 'Link to customer and partner', schema: 'None', database 'None', comment 'None']\n",
      "Linked entity Hub entity 'customer_h' (with name 'customer') has the following definition:\n",
      "Table [name 'customer_h', display name 'customer', schema: 'rdv', database 'None', comment 'None'], \n",
      "Column [name 'customer_no', display name 'Customer No.', data type: 'integer', default value '', primary key 'True', unique 'False', indexed 'False', nullable 'True'], \n",
      "Column [name 'tenant', display name 'Tenant ID', data type: 'integer', default value '', primary key 'True', unique 'False', indexed 'False', nullable 'True']\n",
      "Linked entity Hub entity 'partner_h' (with name 'Partner') has the following definition:\n",
      "Table [name 'partner_h', display name 'Partner', schema: 'None', database 'None', comment 'None'], \n",
      "Column [name 'partner_id', display name 'Partner ID', data type: 'integer', default value '', primary key 'True', unique 'False', indexed 'False', nullable 'True']\n",
      "Linked entity Hub entity 'customer_h' (with name 'Custom2') has the following definition:\n",
      "Table [name 'customer_h', display name 'Custom2', schema: 'rdv', database 'None', comment 'None'], \n",
      "Column [name 'customer_no', display name 'Customer No.', data type: 'integer', default value '', primary key 'True', unique 'False', indexed 'False', nullable 'True'], \n",
      "Column [name 'tenant', display name 'Tenant ID', data type: 'integer', default value '', primary key 'True', unique 'False', indexed 'False', nullable 'True']\n"
     ]
    }
   ],
   "source": [
    "l.add_hub_clone(hub=h, new_name=\"customer_h\", new_display_name=\"Custom2\")\n",
    "print(l.describe())"
   ]
  }
 ],
 "metadata": {
  "kernelspec": {
   "display_name": "Python 3",
   "language": "python",
   "name": "python3"
  },
  "language_info": {
   "codemirror_mode": {
    "name": "ipython",
    "version": 3
   },
   "file_extension": ".py",
   "mimetype": "text/x-python",
   "name": "python",
   "nbconvert_exporter": "python",
   "pygments_lexer": "ipython3",
   "version": "3.7.3"
  },
  "pycharm": {
   "stem_cell": {
    "cell_type": "raw",
    "metadata": {
     "collapsed": false
    },
    "source": []
   }
  }
 },
 "nbformat": 4,
 "nbformat_minor": 4
}
